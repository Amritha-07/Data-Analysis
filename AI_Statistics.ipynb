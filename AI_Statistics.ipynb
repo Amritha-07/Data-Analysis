{
 "cells": [
  {
   "cell_type": "code",
   "execution_count": null,
   "id": "491109c3",
   "metadata": {},
   "outputs": [],
   "source": [
    "import numpy as np\n",
    "import pandas as pd\n",
    "import matplotlib.pyplot as plt\n",
    "import math\n",
    "import plotly.express as px"
   ]
  },
  {
   "cell_type": "code",
   "execution_count": null,
   "id": "08175ef7",
   "metadata": {},
   "outputs": [],
   "source": [
    "df = pd.read_excel(r\"AI_2.xlsx\")\n",
    "df.drop('Timestamp', axis = 'columns', inplace = True)\n",
    "df.drop('Email Address', axis = 'columns', inplace = True)\n",
    "df.rename(columns = {\"Enter your Department\":\"Department\", \"Do you think AI already made an impact in your sector?\":\"Present_AI\", \"Do you think AI will have a major impact in your sector in the near future?\":\"Future_AI\", \"15 years from now, do you think AI will have a major impact on your job opportunities?\":\"Future_Job\", \"Do you think Human Intelligence is superior than AI intelligence ?\":\"HI>AI\", \"Which of the following sector jobs can be easily replaced?\":\"Replace_Easily\", \"Which is better? AI or Human Compassionate job !\":\"Human_Or_AI\", \"What's your opinion on AI growing ?\":\"Opinion\"}, inplace = True)\n",
    "df.drop('Opinion', axis = 'columns', inplace = True)"
   ]
  },
  {
   "cell_type": "code",
   "execution_count": null,
   "id": "96e6b7e7",
   "metadata": {},
   "outputs": [],
   "source": [
    "df"
   ]
  },
  {
   "cell_type": "code",
   "execution_count": null,
   "id": "451adae5",
   "metadata": {},
   "outputs": [],
   "source": [
    "counts1 = pd.DataFrame(df[\"Department\"].value_counts(sort=True))\n",
    "p1 = counts1[\"Department\"].plot.pie(figsize = (5, 5), label='')\n",
    "plt.legend(bbox_to_anchor=(2, 0), loc=\"lower right\", bbox_transform=plt.gcf().transFigure)\n",
    "plt.title(\"Department\")\n",
    "plt.show()\n",
    "print(counts1)"
   ]
  },
  {
   "cell_type": "code",
   "execution_count": null,
   "id": "ddff2424",
   "metadata": {},
   "outputs": [],
   "source": [
    "counts2 = pd.DataFrame(df[\"Present_AI\"].value_counts(sort=True))\n",
    "p2 = counts2[\"Present_AI\"].plot.pie(figsize = (5, 5), label='')\n",
    "plt.legend(bbox_to_anchor=(2, 0), loc=\"lower right\", bbox_transform=plt.gcf().transFigure)\n",
    "plt.title(\"Present\")\n",
    "plt.show()\n",
    "print(counts2)"
   ]
  },
  {
   "cell_type": "code",
   "execution_count": null,
   "id": "05d29ac6",
   "metadata": {},
   "outputs": [],
   "source": [
    "counts3 = pd.DataFrame(df[\"Future_AI\"].value_counts(sort=True))\n",
    "p3 = counts3[\"Future_AI\"].plot.pie(figsize = (5, 5), label='')\n",
    "plt.legend(bbox_to_anchor=(2, 0), loc=\"lower right\", bbox_transform=plt.gcf().transFigure)\n",
    "plt.title(\"Future_AI\")\n",
    "plt.show()\n",
    "print(counts3)"
   ]
  },
  {
   "cell_type": "code",
   "execution_count": null,
   "id": "67782c33",
   "metadata": {},
   "outputs": [],
   "source": [
    "counts4 = pd.DataFrame(df[\"Future_Job\"].value_counts(sort=True))\n",
    "p4 = counts4[\"Future_Job\"].plot.pie(figsize = (5, 5), label='')\n",
    "plt.legend(bbox_to_anchor=(2, 0), loc=\"lower right\", bbox_transform=plt.gcf().transFigure)\n",
    "plt.title(\"Future_Job\")\n",
    "plt.show()\n",
    "print(counts4)"
   ]
  },
  {
   "cell_type": "code",
   "execution_count": null,
   "id": "0a63dd05",
   "metadata": {},
   "outputs": [],
   "source": [
    "counts5 = pd.DataFrame(df[\"HI>AI\"].value_counts(sort=True))\n",
    "p5 = counts5[\"HI>AI\"].plot.pie(figsize = (5, 5), label='')\n",
    "plt.legend(bbox_to_anchor=(2, 0), loc=\"lower right\", bbox_transform=plt.gcf().transFigure)\n",
    "plt.title(\"Human Intelligent superior to Artificial Intelligent\")\n",
    "plt.show()\n",
    "print(counts5)"
   ]
  },
  {
   "cell_type": "code",
   "execution_count": null,
   "id": "6e1e7be3",
   "metadata": {},
   "outputs": [],
   "source": [
    "counts6 = pd.DataFrame(df[\"Replace_Easily\"].value_counts(sort=True))\n",
    "p6 = counts6[\"Replace_Easily\"].plot.pie(figsize = (5, 5), label='')\n",
    "plt.legend(bbox_to_anchor=(2.5, 0), loc=\"lower right\", bbox_transform=plt.gcf().transFigure)\n",
    "plt.title(\"Sector_Replaced_Easily\")\n",
    "plt.show()\n",
    "print(counts6)"
   ]
  },
  {
   "cell_type": "code",
   "execution_count": null,
   "id": "ec50b9f9",
   "metadata": {},
   "outputs": [],
   "source": [
    "counts7 = pd.DataFrame(df[\"Human_Or_AI\"].value_counts(sort=True))\n",
    "p7 = counts7[\"Human_Or_AI\"].plot.pie(figsize = (5, 5), label='')\n",
    "plt.legend(bbox_to_anchor=(2, 0), loc=\"lower right\", bbox_transform=plt.gcf().transFigure)\n",
    "plt.title(\"Human vs AI\")\n",
    "plt.show()\n",
    "print(counts7)"
   ]
  },
  {
   "cell_type": "code",
   "execution_count": null,
   "id": "28b0bd35",
   "metadata": {},
   "outputs": [],
   "source": [
    "df = pd.read_excel(r\"AI_2.xlsx\")\n",
    "df.drop('Timestamp', axis = 'columns', inplace = True)\n",
    "df.drop('Email Address', axis = 'columns', inplace = True)\n",
    "df.rename(columns = {\"Enter your Department\":\"Department\", \"Do you think AI already made an impact in your sector?\":\"Present_AI\", \"Do you think AI will have a major impact in your sector in the near future?\":\"Future_AI\", \"15 years from now, do you think AI will have a major impact on your job opportunities?\":\"Future_Job\", \"Do you think Human Intelligence is superior than AI intelligence ?\":\"HI>AI\", \"Which of the following sector jobs can be easily replaced?\":\"Replace_Easily\", \"Which is better? AI or Human Compassionate job !\":\"Human_Or_AI\", \"What's your opinion on AI growing ?\":\"Opinion\"}, inplace = True)\n",
    "df.drop('Opinion', axis = 'columns', inplace = True)\n",
    "df.drop('Replace_Easily', axis = 'columns', inplace = True)\n",
    "df.drop('HI>AI', axis = 'columns', inplace = True)\n",
    "df.drop('Human_Or_AI', axis = 'columns', inplace = True)"
   ]
  },
  {
   "cell_type": "code",
   "execution_count": null,
   "id": "14e7a890",
   "metadata": {},
   "outputs": [],
   "source": [
    "sample =  pd.get_dummies(df)\n",
    "df_DS = pd.DataFrame(sample[sample['Department_Data Science'] == 1])\n",
    "df_Med = pd.DataFrame(sample[sample['Department_Medical'] == 1])\n",
    "df_Sci = pd.DataFrame(sample[sample['Department_Science'] == 1])\n",
    "df_Tech = pd.DataFrame(sample[sample['Department_Technical'] == 1])"
   ]
  },
  {
   "cell_type": "code",
   "execution_count": null,
   "id": "edd465f0",
   "metadata": {},
   "outputs": [],
   "source": [
    "def stats(data):\n",
    "    data.drop('Department_Data Science', axis = 'columns', inplace = True)\n",
    "    data.drop('Department_Medical', axis = 'columns', inplace = True)\n",
    "    data.drop('Department_Science', axis = 'columns', inplace = True)\n",
    "    data.drop('Department_Technical', axis = 'columns', inplace = True)\n",
    "    sample =  pd.get_dummies(data)\n",
    "    s = sample.sum(axis = 0, skipna = True)\n",
    "    data1 = pd.array([s[\"Present_AI_Yes\"], s[\"Present_AI_Maybe\"], s[\"Present_AI_No\"]])\n",
    "    data2 = pd.array([s[\"Future_AI_Yes\"], s[\"Future_AI_Maybe\"], s[\"Future_AI_No\"]])\n",
    "    X = np.arange(3)\n",
    "    data = pd.array([\"Yes\", \"Maybe\", \"No\"])\n",
    "    plt.figure(figsize = (10, 10))\n",
    "    plt.bar(X + 0.00, data1, label = \"Present\", color = 'b', width = 0.35)\n",
    "    plt.bar(X + 0.40, data2, label = \"Future\", color = 'g', width = 0.35)\n",
    "    plt.xticks(X, data)\n",
    "    plt.legend()\n",
    "    plt.show()"
   ]
  },
  {
   "cell_type": "code",
   "execution_count": null,
   "id": "09a623fd",
   "metadata": {},
   "outputs": [],
   "source": [
    "stats(sample)"
   ]
  },
  {
   "cell_type": "code",
   "execution_count": null,
   "id": "7b8cbdd7",
   "metadata": {},
   "outputs": [],
   "source": [
    "stats(df_DS)"
   ]
  },
  {
   "cell_type": "code",
   "execution_count": null,
   "id": "fa9e8345",
   "metadata": {},
   "outputs": [],
   "source": [
    "stats(df_Med)"
   ]
  },
  {
   "cell_type": "code",
   "execution_count": null,
   "id": "94fb93e2",
   "metadata": {},
   "outputs": [],
   "source": [
    "stats(df_Sci)"
   ]
  },
  {
   "cell_type": "code",
   "execution_count": null,
   "id": "5bdfb0e6",
   "metadata": {},
   "outputs": [],
   "source": [
    "stats(df_Tech)"
   ]
  },
  {
   "cell_type": "code",
   "execution_count": null,
   "id": "75ef151d",
   "metadata": {},
   "outputs": [],
   "source": []
  }
 ],
 "metadata": {
  "kernelspec": {
   "display_name": "Python 3 (ipykernel)",
   "language": "python",
   "name": "python3"
  },
  "language_info": {
   "codemirror_mode": {
    "name": "ipython",
    "version": 3
   },
   "file_extension": ".py",
   "mimetype": "text/x-python",
   "name": "python",
   "nbconvert_exporter": "python",
   "pygments_lexer": "ipython3",
   "version": "3.9.13"
  }
 },
 "nbformat": 4,
 "nbformat_minor": 5
}
