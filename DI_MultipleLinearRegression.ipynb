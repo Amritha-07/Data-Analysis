{
 "cells": [
  {
   "cell_type": "code",
   "execution_count": 275,
   "id": "68b0dc16",
   "metadata": {},
   "outputs": [],
   "source": [
    "import pandas as pd\n",
    "import numpy as np\n",
    "import matplotlib.pyplot as plt\n",
    "import seaborn as sns\n",
    "import math"
   ]
  },
  {
   "cell_type": "code",
   "execution_count": 276,
   "id": "756c65e0",
   "metadata": {},
   "outputs": [],
   "source": [
    "df = pd.read_excel(r\"DSjobs.xlsx\")"
   ]
  },
  {
   "cell_type": "code",
   "execution_count": 277,
   "id": "4b3050be",
   "metadata": {},
   "outputs": [],
   "source": [
    "df.rename(columns={'percentage of job description that contain artificial intelligence or machine learning ': 'AI and ML', 'percentage of jobs open after 60 days': 'Jobs open'}, inplace=True)"
   ]
  },
  {
   "cell_type": "code",
   "execution_count": 278,
   "id": "890bfddd",
   "metadata": {},
   "outputs": [
    {
     "data": {
      "text/html": [
       "<div>\n",
       "<style scoped>\n",
       "    .dataframe tbody tr th:only-of-type {\n",
       "        vertical-align: middle;\n",
       "    }\n",
       "\n",
       "    .dataframe tbody tr th {\n",
       "        vertical-align: top;\n",
       "    }\n",
       "\n",
       "    .dataframe thead th {\n",
       "        text-align: right;\n",
       "    }\n",
       "</style>\n",
       "<table border=\"1\" class=\"dataframe\">\n",
       "  <thead>\n",
       "    <tr style=\"text-align: right;\">\n",
       "      <th></th>\n",
       "      <th>Jobs</th>\n",
       "      <th>AI and ML</th>\n",
       "      <th>Jobs open</th>\n",
       "      <th>Average Salary</th>\n",
       "    </tr>\n",
       "  </thead>\n",
       "  <tbody>\n",
       "    <tr>\n",
       "      <th>0</th>\n",
       "      <td>Machine Learning Engineer</td>\n",
       "      <td>94.2</td>\n",
       "      <td>40.8</td>\n",
       "      <td>134449</td>\n",
       "    </tr>\n",
       "    <tr>\n",
       "      <th>1</th>\n",
       "      <td>Data Scientist</td>\n",
       "      <td>75.1</td>\n",
       "      <td>33.0</td>\n",
       "      <td>130503</td>\n",
       "    </tr>\n",
       "    <tr>\n",
       "      <th>2</th>\n",
       "      <td>Computer Vision Engineer</td>\n",
       "      <td>64.6</td>\n",
       "      <td>45.2</td>\n",
       "      <td>134346</td>\n",
       "    </tr>\n",
       "    <tr>\n",
       "      <th>3</th>\n",
       "      <td>Alorithm Engineer</td>\n",
       "      <td>37.4</td>\n",
       "      <td>48.6</td>\n",
       "      <td>104112</td>\n",
       "    </tr>\n",
       "    <tr>\n",
       "      <th>4</th>\n",
       "      <td>Principal Scientist</td>\n",
       "      <td>28.8</td>\n",
       "      <td>46.4</td>\n",
       "      <td>138271</td>\n",
       "    </tr>\n",
       "    <tr>\n",
       "      <th>5</th>\n",
       "      <td>Computer Scientist</td>\n",
       "      <td>27.6</td>\n",
       "      <td>63.8</td>\n",
       "      <td>97850</td>\n",
       "    </tr>\n",
       "    <tr>\n",
       "      <th>6</th>\n",
       "      <td>Research Engineer</td>\n",
       "      <td>24.3</td>\n",
       "      <td>44.1</td>\n",
       "      <td>71600</td>\n",
       "    </tr>\n",
       "    <tr>\n",
       "      <th>7</th>\n",
       "      <td>Statistician</td>\n",
       "      <td>24.0</td>\n",
       "      <td>29.0</td>\n",
       "      <td>83731</td>\n",
       "    </tr>\n",
       "    <tr>\n",
       "      <th>8</th>\n",
       "      <td>Director of analytics</td>\n",
       "      <td>23.3</td>\n",
       "      <td>34.5</td>\n",
       "      <td>140837</td>\n",
       "    </tr>\n",
       "    <tr>\n",
       "      <th>9</th>\n",
       "      <td>Data Engineer</td>\n",
       "      <td>22.1</td>\n",
       "      <td>34.8</td>\n",
       "      <td>125999</td>\n",
       "    </tr>\n",
       "  </tbody>\n",
       "</table>\n",
       "</div>"
      ],
      "text/plain": [
       "                        Jobs  AI and ML  Jobs open  Average Salary\n",
       "0  Machine Learning Engineer       94.2       40.8          134449\n",
       "1             Data Scientist       75.1       33.0          130503\n",
       "2   Computer Vision Engineer       64.6       45.2          134346\n",
       "3          Alorithm Engineer       37.4       48.6          104112\n",
       "4        Principal Scientist       28.8       46.4          138271\n",
       "5         Computer Scientist       27.6       63.8           97850\n",
       "6          Research Engineer       24.3       44.1           71600\n",
       "7               Statistician       24.0       29.0           83731\n",
       "8      Director of analytics       23.3       34.5          140837\n",
       "9              Data Engineer       22.1       34.8          125999"
      ]
     },
     "execution_count": 278,
     "metadata": {},
     "output_type": "execute_result"
    }
   ],
   "source": [
    "df"
   ]
  },
  {
   "cell_type": "code",
   "execution_count": 279,
   "id": "cc8fbd2e",
   "metadata": {},
   "outputs": [
    {
     "data": {
      "text/plain": [
       "<seaborn.axisgrid.PairGrid at 0x266f8698670>"
      ]
     },
     "execution_count": 279,
     "metadata": {},
     "output_type": "execute_result"
    },
    {
     "data": {
      "image/png": "[encoded data removed]",
      "text/plain": [
       "<Figure size 540x540 with 12 Axes>"
      ]
     },
     "metadata": {
      "needs_background": "light"
     },
     "output_type": "display_data"
    }
   ],
   "source": [
    "sns.pairplot(df)"
   ]
  },
  {
   "cell_type": "code",
   "execution_count": 280,
   "id": "26b7d5a3",
   "metadata": {},
   "outputs": [],
   "source": [
    "x = df[[\"AI and ML\", \"Average Salary\"]]\n",
    "y = df[\"Jobs open\"]"
   ]
  },
  {
   "cell_type": "code",
   "execution_count": 281,
   "id": "fcf1eb81",
   "metadata": {},
   "outputs": [],
   "source": [
    "from sklearn.model_selection import train_test_split"
   ]
  },
  {
   "cell_type": "code",
   "execution_count": 282,
   "id": "8205af0f",
   "metadata": {},
   "outputs": [],
   "source": [
    "x_train, x_test, y_train, y_test = train_test_split(x, y, test_size = 0.5)"
   ]
  },
  {
   "cell_type": "code",
   "execution_count": 283,
   "id": "cf2fccf9",
   "metadata": {},
   "outputs": [],
   "source": [
    "from sklearn.linear_model import LinearRegression"
   ]
  },
  {
   "cell_type": "code",
   "execution_count": 284,
   "id": "f240c9e6",
   "metadata": {},
   "outputs": [],
   "source": [
    "model = LinearRegression()"
   ]
  },
  {
   "cell_type": "code",
   "execution_count": 285,
   "id": "3e5c1da2",
   "metadata": {},
   "outputs": [
    {
     "data": {
      "text/plain": [
       "LinearRegression()"
      ]
     },
     "execution_count": 285,
     "metadata": {},
     "output_type": "execute_result"
    }
   ],
   "source": [
    "model.fit(x_train, y_train)"
   ]
  },
  {
   "cell_type": "code",
   "execution_count": 286,
   "id": "10ec76c4",
   "metadata": {},
   "outputs": [
    {
     "name": "stdout",
     "output_type": "stream",
     "text": [
      "[0.0111179  0.00040731]\n"
     ]
    }
   ],
   "source": [
    "print(model.coef_)"
   ]
  },
  {
   "cell_type": "code",
   "execution_count": 287,
   "id": "95d4d24e",
   "metadata": {},
   "outputs": [
    {
     "name": "stdout",
     "output_type": "stream",
     "text": [
      "-17.226102857068696\n"
     ]
    }
   ],
   "source": [
    "print(model.intercept_)"
   ]
  },
  {
   "cell_type": "code",
   "execution_count": 288,
   "id": "e072b9d4",
   "metadata": {},
   "outputs": [
    {
     "data": {
      "text/html": [
       "<div>\n",
       "<style scoped>\n",
       "    .dataframe tbody tr th:only-of-type {\n",
       "        vertical-align: middle;\n",
       "    }\n",
       "\n",
       "    .dataframe tbody tr th {\n",
       "        vertical-align: top;\n",
       "    }\n",
       "\n",
       "    .dataframe thead th {\n",
       "        text-align: right;\n",
       "    }\n",
       "</style>\n",
       "<table border=\"1\" class=\"dataframe\">\n",
       "  <thead>\n",
       "    <tr style=\"text-align: right;\">\n",
       "      <th></th>\n",
       "      <th>coeff</th>\n",
       "    </tr>\n",
       "  </thead>\n",
       "  <tbody>\n",
       "    <tr>\n",
       "      <th>AI and ML</th>\n",
       "      <td>0.011118</td>\n",
       "    </tr>\n",
       "    <tr>\n",
       "      <th>Average Salary</th>\n",
       "      <td>0.000407</td>\n",
       "    </tr>\n",
       "  </tbody>\n",
       "</table>\n",
       "</div>"
      ],
      "text/plain": [
       "                   coeff\n",
       "AI and ML       0.011118\n",
       "Average Salary  0.000407"
      ]
     },
     "execution_count": 288,
     "metadata": {},
     "output_type": "execute_result"
    }
   ],
   "source": [
    "pd.DataFrame(model.coef_, x.columns, columns = ['coeff'])"
   ]
  },
  {
   "cell_type": "code",
   "execution_count": 289,
   "id": "df9a566c",
   "metadata": {},
   "outputs": [],
   "source": [
    "predictions = model.predict(x_test)"
   ]
  },
  {
   "cell_type": "code",
   "execution_count": 290,
   "id": "08a7e6de",
   "metadata": {},
   "outputs": [
    {
     "data": {
      "text/plain": [
       "<matplotlib.collections.PathCollection at 0x266f9ccd970>"
      ]
     },
     "execution_count": 290,
     "metadata": {},
     "output_type": "execute_result"
    },
    {
     "data": {
      "image/png": "[encoded data removed]",
      "text/plain": [
       "<Figure size 432x288 with 1 Axes>"
      ]
     },
     "metadata": {
      "needs_background": "light"
     },
     "output_type": "display_data"
    }
   ],
   "source": [
    "plt.scatter(y_test, predictions)"
   ]
  },
  {
   "cell_type": "code",
   "execution_count": 291,
   "id": "62102a84",
   "metadata": {},
   "outputs": [
    {
     "data": {
      "text/plain": [
       "(array([1., 1., 0., 0., 1., 0., 0., 1., 0., 1.]),\n",
       " array([ 6.98710167, 10.37476504, 13.76242841, 17.15009178, 20.53775515,\n",
       "        23.92541852, 27.31308189, 30.70074527, 34.08840864, 37.47607201,\n",
       "        40.86373538]),\n",
       " <BarContainer object of 10 artists>)"
      ]
     },
     "execution_count": 291,
     "metadata": {},
     "output_type": "execute_result"
    },
    {
     "data": {
      "image/png": "[encoded data removed]",
      "text/plain": [
       "<Figure size 432x288 with 1 Axes>"
      ]
     },
     "metadata": {
      "needs_background": "light"
     },
     "output_type": "display_data"
    }
   ],
   "source": [
    "plt.hist(y_test - predictions)"
   ]
  },
  {
   "cell_type": "code",
   "execution_count": 292,
   "id": "394a9a82",
   "metadata": {},
   "outputs": [],
   "source": [
    "mlr_df = pd.DataFrame({\"AI an ML\": x_test[\"AI and ML\"], \"Average Salary\": x_test[\"Average Salary\"], \"Actual value\": y_test, \"Predicted_value\": predictions, \"Difference\": y_test - predictions})"
   ]
  },
  {
   "cell_type": "code",
   "execution_count": 293,
   "id": "89884cca",
   "metadata": {},
   "outputs": [
    {
     "name": "stdout",
     "output_type": "stream",
     "text": [
      "   AI an ML  Average Salary  Actual value  Predicted_value  Difference\n",
      "7      24.0           83731          29.0        17.145397   11.854603\n",
      "3      37.4          104112          48.6        25.595810   23.004190\n",
      "2      64.6          134346          45.2        38.212898    6.987102\n",
      "5      27.6           97850          63.8        22.936265   40.863735\n",
      "6      24.3           71600          44.1        12.207626   31.892374\n"
     ]
    }
   ],
   "source": [
    "print(mlr_df)"
   ]
  },
  {
   "cell_type": "code",
   "execution_count": null,
   "id": "f2f9fcc6",
   "metadata": {},
   "outputs": [],
   "source": []
  }
 ],
 "metadata": {
  "kernelspec": {
   "display_name": "Python 3 (ipykernel)",
   "language": "python",
   "name": "python3"
  },
  "language_info": {
   "codemirror_mode": {
    "name": "ipython",
    "version": 3
   },
   "file_extension": ".py",
   "mimetype": "text/x-python",
   "name": "python",
   "nbconvert_exporter": "python",
   "pygments_lexer": "ipython3",
   "version": "3.9.13"
  }
 },
 "nbformat": 4,
 "nbformat_minor": 5
}
