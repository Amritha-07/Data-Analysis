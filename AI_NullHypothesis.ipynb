{
 "cells": [
  {
   "cell_type": "code",
   "execution_count": 1,
   "id": "a917feac",
   "metadata": {},
   "outputs": [],
   "source": [
    "import numpy as np\n",
    "import pandas as pd\n",
    "import matplotlib.pyplot as plt\n",
    "import math\n",
    "import seaborn as sns\n",
    "import random\n",
    "import statistics\n",
    "from scipy.stats import norm"
   ]
  },
  {
   "cell_type": "code",
   "execution_count": 2,
   "id": "1c9f5fc3",
   "metadata": {},
   "outputs": [
    {
     "data": {
      "text/html": [
       "<div>\n",
       "<style scoped>\n",
       "    .dataframe tbody tr th:only-of-type {\n",
       "        vertical-align: middle;\n",
       "    }\n",
       "\n",
       "    .dataframe tbody tr th {\n",
       "        vertical-align: top;\n",
       "    }\n",
       "\n",
       "    .dataframe thead th {\n",
       "        text-align: right;\n",
       "    }\n",
       "</style>\n",
       "<table border=\"1\" class=\"dataframe\">\n",
       "  <thead>\n",
       "    <tr style=\"text-align: right;\">\n",
       "      <th></th>\n",
       "      <th>Department</th>\n",
       "      <th>CatP</th>\n",
       "      <th>CatF</th>\n",
       "      <th>CatJ</th>\n",
       "    </tr>\n",
       "  </thead>\n",
       "  <tbody>\n",
       "    <tr>\n",
       "      <th>0</th>\n",
       "      <td>Technical</td>\n",
       "      <td>2</td>\n",
       "      <td>2</td>\n",
       "      <td>2</td>\n",
       "    </tr>\n",
       "    <tr>\n",
       "      <th>1</th>\n",
       "      <td>Data Science</td>\n",
       "      <td>2</td>\n",
       "      <td>1</td>\n",
       "      <td>1</td>\n",
       "    </tr>\n",
       "    <tr>\n",
       "      <th>2</th>\n",
       "      <td>Science</td>\n",
       "      <td>2</td>\n",
       "      <td>1</td>\n",
       "      <td>1</td>\n",
       "    </tr>\n",
       "    <tr>\n",
       "      <th>3</th>\n",
       "      <td>Technical</td>\n",
       "      <td>2</td>\n",
       "      <td>2</td>\n",
       "      <td>2</td>\n",
       "    </tr>\n",
       "    <tr>\n",
       "      <th>4</th>\n",
       "      <td>Data Science</td>\n",
       "      <td>2</td>\n",
       "      <td>2</td>\n",
       "      <td>2</td>\n",
       "    </tr>\n",
       "    <tr>\n",
       "      <th>...</th>\n",
       "      <td>...</td>\n",
       "      <td>...</td>\n",
       "      <td>...</td>\n",
       "      <td>...</td>\n",
       "    </tr>\n",
       "    <tr>\n",
       "      <th>158</th>\n",
       "      <td>Data Science</td>\n",
       "      <td>2</td>\n",
       "      <td>2</td>\n",
       "      <td>1</td>\n",
       "    </tr>\n",
       "    <tr>\n",
       "      <th>159</th>\n",
       "      <td>Data Science</td>\n",
       "      <td>2</td>\n",
       "      <td>2</td>\n",
       "      <td>-2</td>\n",
       "    </tr>\n",
       "    <tr>\n",
       "      <th>160</th>\n",
       "      <td>Technical</td>\n",
       "      <td>2</td>\n",
       "      <td>2</td>\n",
       "      <td>1</td>\n",
       "    </tr>\n",
       "    <tr>\n",
       "      <th>161</th>\n",
       "      <td>Technical</td>\n",
       "      <td>2</td>\n",
       "      <td>0</td>\n",
       "      <td>1</td>\n",
       "    </tr>\n",
       "    <tr>\n",
       "      <th>162</th>\n",
       "      <td>Science</td>\n",
       "      <td>0</td>\n",
       "      <td>1</td>\n",
       "      <td>0</td>\n",
       "    </tr>\n",
       "  </tbody>\n",
       "</table>\n",
       "<p>163 rows × 4 columns</p>\n",
       "</div>"
      ],
      "text/plain": [
       "       Department  CatP  CatF  CatJ\n",
       "0       Technical     2     2     2\n",
       "1    Data Science     2     1     1\n",
       "2         Science     2     1     1\n",
       "3       Technical     2     2     2\n",
       "4    Data Science     2     2     2\n",
       "..            ...   ...   ...   ...\n",
       "158  Data Science     2     2     1\n",
       "159  Data Science     2     2    -2\n",
       "160     Technical     2     2     1\n",
       "161     Technical     2     0     1\n",
       "162       Science     0     1     0\n",
       "\n",
       "[163 rows x 4 columns]"
      ]
     },
     "execution_count": 2,
     "metadata": {},
     "output_type": "execute_result"
    }
   ],
   "source": [
    "df = pd.read_excel(r\"AI_3.xlsx\")\n",
    "df.rename(columns = {\"Enter your Department\":\"Department\", \"Do you think AI already made an impact in your sector?\":\"Present_AI\", \"Do you think AI will have a major impact in your sector in the near future?\":\"Future_AI\", \"15 years from now, do you think AI will have a major impact on your job opportunities?\":\"Future_Job\"}, inplace = True)\n",
    "sample = df.copy()\n",
    "sample.drop('Present_AI', axis = 'columns', inplace = True)\n",
    "sample.drop('Future_AI', axis = 'columns', inplace = True)\n",
    "sample.drop('Future_Job', axis = 'columns', inplace = True)\n",
    "sample"
   ]
  },
  {
   "cell_type": "code",
   "execution_count": 3,
   "id": "d7c87920",
   "metadata": {},
   "outputs": [],
   "source": [
    "df_DS = pd.DataFrame(df[df['Department'] == 'Data Science'])\n",
    "df_Med = pd.DataFrame(df[df['Department'] == 'Medical'])\n",
    "df_Sci = pd.DataFrame(df[df['Department'] == 'Science'])\n",
    "df_Tech = pd.DataFrame(df[df['Department'] == 'Technical'])"
   ]
  },
  {
   "cell_type": "code",
   "execution_count": 4,
   "id": "7339f5be",
   "metadata": {},
   "outputs": [],
   "source": [
    "def nullHypothesis(df):\n",
    "    data = df['CatP']\n",
    "    data = list(data)\n",
    "    print(\"Population: \", data)\n",
    "    s = df['CatF']\n",
    "    s = list(s)\n",
    "\n",
    "    sample = random.sample(s, 20)\n",
    "    print(\"Ssample: \", sample)\n",
    "\n",
    "    population_mean = statistics.mean(data)\n",
    "    population_stddev = statistics.stdev(data)\n",
    "    n = 30\n",
    "    sample_mean = statistics.mean(s)\n",
    "    sample_stddev = statistics.stdev(s)\n",
    "    print(\"\\nPopulation Mean(μ): \", population_mean, \"\\n\\nPopulation Standard Deviation(σ): \", population_stddev)\n",
    "    print(\"\\nNumber of Samples(n):\", n, \"\\n\\nSample Mean(x̅): \", sample_mean)\n",
    "\n",
    "    x_axis = np.arange(-5, 5)\n",
    "    plt.figure(figsize=(10, 8), dpi=80)\n",
    "    plt.plot(x_axis, norm.pdf(x_axis, population_mean, population_stddev))\n",
    "    plt.grid(color='gray', linestyle='--', linewidth=1)\n",
    "    plt.title('Normal Distribution', fontsize='15')\n",
    "    plt.xlabel('μ', fontsize='16')\n",
    "    plt.ylabel(' Probability ', fontsize='12')\n",
    "    plt.show() \n",
    "\n",
    "    Z_score = (sample_mean - population_mean)/(population_stddev / math.sqrt(n))\n",
    "    print(\"For performing Z-test, we use the following formula: [Z = (x̅ - μ)/(σ / √n)]\")\n",
    "    print(\"\\nZ = \", Z_score)\n",
    "\n",
    "    C = input(\"\\nChoose confidence value(90%, 95%, 99%): \")\n",
    "    C = int(C) \n",
    "    if(C==90):\n",
    "        print(\"\\n\\tThen α-value is 10% (or) 0.1\")\n",
    "        Z = 1.645\n",
    "    elif (C==95):\n",
    "        print(\"\\n\\tThen α-value is 5% (or) 0.05\")\n",
    "        Z = 1.960\n",
    "    elif (C==99):\n",
    "        print(\"\\n\\tThen α-value is 1% (or) 0.01\")\n",
    "        Z = 2.576\n",
    "    elif (C!=90, 95, 99):\n",
    "        print(\"\\n\\nEnter from the three values!!\")\n",
    "        exit()\n",
    "    print(\"\\nFor the claim, the Z-score right tail test is\", Z)\n",
    "\n",
    "    print(\"\\nResult: \")\n",
    "    k = -Z\n",
    "    if(Z_score >  Z or (Z_score < k)):\n",
    "        print(\"\\n\\tHere, \", Z_score,\"is greater than \", Z)\n",
    "        print(\"\\n\\t=> Hence, We reject NULL Hypothesis, H0\")\n",
    "    elif((Z_score < k)):\n",
    "        print(\"\\n\\tHere, \", Z_score,\"is lesser than \", Z)\n",
    "        print(\"\\n\\t=> Hence, We reject NULL Hypothesis, H0\")\n",
    "    else:\n",
    "        print(\"\\n\\tHere, \", Z_score,\"is less than \", Z)\n",
    "        print(\"\\n\\t=> Hence, We will not reject NUll hypothesis, H0\")"
   ]
  },
  {
   "cell_type": "code",
   "execution_count": null,
   "id": "c0f5aefe",
   "metadata": {},
   "outputs": [
    {
     "name": "stdout",
     "output_type": "stream",
     "text": [
      "Population:  [2, 2, 2, 2, 2, 0, 2, 2, 1, 2, 2, 0, 1, 2, 1, 1, 0, 2, 2, 2, 2, 2, 2, 2, 0, 0, 2, 2, 2, 1, 2, 1, 2, 1, 2, 2, 1, 2, 1, 0, 0, 2, 2, 2, 1, 0, 2, 0, 2, 2, 2, 2, 2, 2, 1, 2, 2, 0, 0, 0, 1, 2, 2, 2, 2, 1, 2, 2, 2, 1, 2, 1, 2, 2, 2, 2, 0, 2, 2, 2, 1, 2, 2, 2, 1, 1, 2, 2, 2, 2, 2, 2, 0, 1, 2, 2, 2, 0, 2, 0, 2, 2, 2, 2, 1, 2, 2, 2, 2, 2, 2, 0, 2, 2, 2, 2, 2, 2, 1, 0, 1, 2, 2, 1, 2, 2, 1, 2, 2, 1, 0, 1, 0, 1, 1, 0, 2, 2, 2, 2, 2, 1, 1, 2, 0, 2, 1, 0, 2, 0, 2, 0, 1, 2, 1, 2, 2, 2, 2, 2, 2, 2, 0]\n",
      "Ssample:  [2, 2, 2, 2, 2, 2, 1, 1, 0, 2, 1, 2, 2, 1, 0, 2, 1, 2, 2, 2]\n",
      "\n",
      "Population Mean(μ):  1.478527607361963 \n",
      "\n",
      "Population Standard Deviation(σ):  0.7563510788516418\n",
      "\n",
      "Number of Samples(n): 30 \n",
      "\n",
      "Sample Mean(x̅):  1.7177914110429449\n"
     ]
    },
    {
     "data": {
      "image/png": "[encoded data removed]",
      "text/plain": [
       "<Figure size 800x640 with 1 Axes>"
      ]
     },
     "metadata": {},
     "output_type": "display_data"
    },
    {
     "name": "stdout",
     "output_type": "stream",
     "text": [
      "For performing Z-test, we use the following formula: [Z = (x̅ - μ)/(σ / √n)]\n",
      "\n",
      "Z =  1.7326633905187672\n"
     ]
    }
   ],
   "source": [
    "nullHypothesis(df)"
   ]
  },
  {
   "cell_type": "code",
   "execution_count": null,
   "id": "64f181fd",
   "metadata": {},
   "outputs": [],
   "source": [
    "nullHypothesis(df_DS)"
   ]
  },
  {
   "cell_type": "code",
   "execution_count": null,
   "id": "deb38c99",
   "metadata": {},
   "outputs": [],
   "source": [
    "nullHypothesis(df_Med)"
   ]
  },
  {
   "cell_type": "code",
   "execution_count": null,
   "id": "257b353a",
   "metadata": {},
   "outputs": [],
   "source": [
    "nullHypothesis(df_Tech)"
   ]
  },
  {
   "cell_type": "code",
   "execution_count": null,
   "id": "b71c424c",
   "metadata": {},
   "outputs": [],
   "source": [
    "nullHypothesis(df_Sci)"
   ]
  },
  {
   "cell_type": "code",
   "execution_count": null,
   "id": "7c31e74d",
   "metadata": {},
   "outputs": [],
   "source": []
  }
 ],
 "metadata": {
  "kernelspec": {
   "display_name": "Python 3 (ipykernel)",
   "language": "python",
   "name": "python3"
  },
  "language_info": {
   "codemirror_mode": {
    "name": "ipython",
    "version": 3
   },
   "file_extension": ".py",
   "mimetype": "text/x-python",
   "name": "python",
   "nbconvert_exporter": "python",
   "pygments_lexer": "ipython3",
   "version": "3.9.13"
  }
 },
 "nbformat": 4,
 "nbformat_minor": 5
}
