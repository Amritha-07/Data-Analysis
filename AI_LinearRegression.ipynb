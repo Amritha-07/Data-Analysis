{
 "cells": [
  {
   "cell_type": "code",
   "execution_count": 11,
   "id": "182a9e8e",
   "metadata": {},
   "outputs": [],
   "source": [
    "import numpy as np\n",
    "import pandas as pd\n",
    "import matplotlib.pyplot as plt\n",
    "import math\n",
    "import seaborn as sns"
   ]
  },
  {
   "cell_type": "code",
   "execution_count": 12,
   "id": "fbb5ffb0",
   "metadata": {},
   "outputs": [],
   "source": [
    "df = pd.read_excel(r\"AI_3.xlsx\")\n",
    "df.rename(columns = {\"Enter your Department\":\"Department\", \"Do you think AI already made an impact in your sector?\":\"Present_AI\", \"Do you think AI will have a major impact in your sector in the near future?\":\"Future_AI\", \"15 years from now, do you think AI will have a major impact on your job opportunities?\":\"Future_Job\"}, inplace = True)"
   ]
  },
  {
   "cell_type": "code",
   "execution_count": 13,
   "id": "34113d56",
   "metadata": {},
   "outputs": [],
   "source": [
    "sample = df.copy()"
   ]
  },
  {
   "cell_type": "code",
   "execution_count": 14,
   "id": "9ac032c2",
   "metadata": {},
   "outputs": [],
   "source": [
    "sample.drop('Present_AI', axis = 'columns', inplace = True)\n",
    "sample.drop('Future_AI', axis = 'columns', inplace = True)\n",
    "sample.drop('Future_Job', axis = 'columns', inplace = True)"
   ]
  },
  {
   "cell_type": "code",
   "execution_count": 15,
   "id": "b1c7b5e9",
   "metadata": {},
   "outputs": [
    {
     "data": {
      "text/html": [
       "<div>\n",
       "<style scoped>\n",
       "    .dataframe tbody tr th:only-of-type {\n",
       "        vertical-align: middle;\n",
       "    }\n",
       "\n",
       "    .dataframe tbody tr th {\n",
       "        vertical-align: top;\n",
       "    }\n",
       "\n",
       "    .dataframe thead th {\n",
       "        text-align: right;\n",
       "    }\n",
       "</style>\n",
       "<table border=\"1\" class=\"dataframe\">\n",
       "  <thead>\n",
       "    <tr style=\"text-align: right;\">\n",
       "      <th></th>\n",
       "      <th>Department</th>\n",
       "      <th>CatP</th>\n",
       "      <th>CatF</th>\n",
       "      <th>CatJ</th>\n",
       "    </tr>\n",
       "  </thead>\n",
       "  <tbody>\n",
       "    <tr>\n",
       "      <th>0</th>\n",
       "      <td>Technical</td>\n",
       "      <td>2</td>\n",
       "      <td>2</td>\n",
       "      <td>2</td>\n",
       "    </tr>\n",
       "    <tr>\n",
       "      <th>1</th>\n",
       "      <td>Data Science</td>\n",
       "      <td>2</td>\n",
       "      <td>1</td>\n",
       "      <td>1</td>\n",
       "    </tr>\n",
       "    <tr>\n",
       "      <th>2</th>\n",
       "      <td>Science</td>\n",
       "      <td>2</td>\n",
       "      <td>1</td>\n",
       "      <td>1</td>\n",
       "    </tr>\n",
       "    <tr>\n",
       "      <th>3</th>\n",
       "      <td>Technical</td>\n",
       "      <td>2</td>\n",
       "      <td>2</td>\n",
       "      <td>2</td>\n",
       "    </tr>\n",
       "    <tr>\n",
       "      <th>4</th>\n",
       "      <td>Data Science</td>\n",
       "      <td>2</td>\n",
       "      <td>2</td>\n",
       "      <td>2</td>\n",
       "    </tr>\n",
       "    <tr>\n",
       "      <th>...</th>\n",
       "      <td>...</td>\n",
       "      <td>...</td>\n",
       "      <td>...</td>\n",
       "      <td>...</td>\n",
       "    </tr>\n",
       "    <tr>\n",
       "      <th>158</th>\n",
       "      <td>Data Science</td>\n",
       "      <td>2</td>\n",
       "      <td>2</td>\n",
       "      <td>1</td>\n",
       "    </tr>\n",
       "    <tr>\n",
       "      <th>159</th>\n",
       "      <td>Data Science</td>\n",
       "      <td>2</td>\n",
       "      <td>2</td>\n",
       "      <td>-2</td>\n",
       "    </tr>\n",
       "    <tr>\n",
       "      <th>160</th>\n",
       "      <td>Technical</td>\n",
       "      <td>2</td>\n",
       "      <td>2</td>\n",
       "      <td>1</td>\n",
       "    </tr>\n",
       "    <tr>\n",
       "      <th>161</th>\n",
       "      <td>Technical</td>\n",
       "      <td>2</td>\n",
       "      <td>0</td>\n",
       "      <td>1</td>\n",
       "    </tr>\n",
       "    <tr>\n",
       "      <th>162</th>\n",
       "      <td>Science</td>\n",
       "      <td>0</td>\n",
       "      <td>1</td>\n",
       "      <td>0</td>\n",
       "    </tr>\n",
       "  </tbody>\n",
       "</table>\n",
       "<p>163 rows × 4 columns</p>\n",
       "</div>"
      ],
      "text/plain": [
       "       Department  CatP  CatF  CatJ\n",
       "0       Technical     2     2     2\n",
       "1    Data Science     2     1     1\n",
       "2         Science     2     1     1\n",
       "3       Technical     2     2     2\n",
       "4    Data Science     2     2     2\n",
       "..            ...   ...   ...   ...\n",
       "158  Data Science     2     2     1\n",
       "159  Data Science     2     2    -2\n",
       "160     Technical     2     2     1\n",
       "161     Technical     2     0     1\n",
       "162       Science     0     1     0\n",
       "\n",
       "[163 rows x 4 columns]"
      ]
     },
     "execution_count": 15,
     "metadata": {},
     "output_type": "execute_result"
    }
   ],
   "source": [
    "sample"
   ]
  },
  {
   "cell_type": "code",
   "execution_count": 16,
   "id": "9b6b50e3",
   "metadata": {
    "scrolled": true
   },
   "outputs": [
    {
     "data": {
      "text/plain": [
       "<seaborn.axisgrid.PairGrid at 0x16f80709130>"
      ]
     },
     "execution_count": 16,
     "metadata": {},
     "output_type": "execute_result"
    },
    {
     "data": {
      "image/png": "[encoded data removed]",
      "text/plain": [
       "<Figure size 540x540 with 12 Axes>"
      ]
     },
     "metadata": {
      "needs_background": "light"
     },
     "output_type": "display_data"
    }
   ],
   "source": [
    "sns.pairplot(sample)"
   ]
  },
  {
   "cell_type": "code",
   "execution_count": 21,
   "id": "530c3fc9",
   "metadata": {},
   "outputs": [],
   "source": [
    "x = np.array(df[\"CatP\"])\n",
    "y = np.array(df[\"CatF\"])\n",
    "z = np.array(df[\"CatJ\"])"
   ]
  },
  {
   "cell_type": "code",
   "execution_count": 18,
   "id": "28961189",
   "metadata": {},
   "outputs": [
    {
     "name": "stdout",
     "output_type": "stream",
     "text": [
      "Mean x:  1.478527607361963\n",
      "Mean y:  1.7177914110429449\n",
      "m:  0.4854771784232365\n",
      "c:  1.0\n"
     ]
    },
    {
     "data": {
      "image/png": "[encoded data removed]",
      "text/plain": [
       "<Figure size 432x288 with 1 Axes>"
      ]
     },
     "metadata": {
      "needs_background": "light"
     },
     "output_type": "display_data"
    },
    {
     "name": "stdout",
     "output_type": "stream",
     "text": [
      "R ^ 2:  0.445595031185032\n",
      "R:  0.6675290489447122\n"
     ]
    }
   ],
   "source": [
    "def Mean(data):\n",
    "    return sum(data)/len(data)\n",
    "\n",
    "mean_x = Mean(x)\n",
    "mean_y = Mean(y)\n",
    "print(\"Mean x: \", mean_x)\n",
    "print(\"Mean y: \", mean_y)\n",
    "\n",
    "numer = 0\n",
    "denom = 0\n",
    "count = len(df)\n",
    "for i in range(count):\n",
    "    numer = (x[i] - mean_x) * (y[i] - mean_y)\n",
    "    denom = (x[i] - mean_x) ** 2\n",
    "m = numer / denom\n",
    "c = mean_y - (m * mean_x)\n",
    "print(\"m: \", m)\n",
    "print(\"c: \", c)\n",
    "\n",
    "min = np.min(x)\n",
    "max = np.max(x)\n",
    "new_x = np.linspace(min, max, 10)\n",
    "new_y = (m * new_x) + c\n",
    "plt.plot(new_x, new_y, label = \"Linear Regression\", color = \"blue\")\n",
    "plt.scatter(x, y, label = \"Scatter Plot\", color = \"red\")\n",
    "plt.xlabel(\"Present_AI\")\n",
    "plt.ylabel(\"Future_AI\")\n",
    "plt.legend(loc = 1)\n",
    "plt.show()\n",
    "\n",
    "r0 = 0\n",
    "r1 = 0\n",
    "for i in range(count):\n",
    "    y1 = (m * x[i]) + c\n",
    "    r0 += (y1 - mean_y) ** 2\n",
    "    r1 += (y[i] - mean_y) ** 2\n",
    "r2 = r0 / r1\n",
    "print(\"R ^ 2: \", r2)\n",
    "print(\"R: \", math.sqrt(r2))"
   ]
  },
  {
   "cell_type": "code",
   "execution_count": 19,
   "id": "35de211f",
   "metadata": {},
   "outputs": [
    {
     "name": "stdout",
     "output_type": "stream",
     "text": [
      "Mean x:  1.478527607361963\n",
      "Mean z:  0.9815950920245399\n",
      "m:  0.6639004149377593\n",
      "c:  1.1102230246251565e-16\n"
     ]
    },
    {
     "data": {
      "image/png": "[encoded data removed]",
      "text/plain": [
       "<Figure size 432x288 with 1 Axes>"
      ]
     },
     "metadata": {
      "needs_background": "light"
     },
     "output_type": "display_data"
    },
    {
     "name": "stdout",
     "output_type": "stream",
     "text": [
      "R ^ 2:  0.2973728170155923\n",
      "R:  0.5453190048179068\n"
     ]
    }
   ],
   "source": [
    "def Mean(data):\n",
    "    return sum(data)/len(data)\n",
    "\n",
    "mean_x = Mean(x)\n",
    "mean_z = Mean(z)\n",
    "print(\"Mean x: \", mean_x)\n",
    "print(\"Mean z: \", mean_z)\n",
    "\n",
    "numer = 0\n",
    "denom = 0\n",
    "count = len(df)\n",
    "for i in range(count):\n",
    "    numer = (x[i] - mean_x) * (z[i] - mean_z)\n",
    "    denom = (x[i] - mean_x) ** 2\n",
    "m = numer / denom\n",
    "c = mean_z - (m * mean_x)\n",
    "print(\"m: \", m)\n",
    "print(\"c: \", c)\n",
    "\n",
    "min = np.min(x)\n",
    "max = np.max(x)\n",
    "new_x = np.linspace(min, max, 10)\n",
    "new_z = (m * new_x) + c\n",
    "plt.plot(new_x, new_z, label = \"Linear Regression\", color = \"blue\")\n",
    "plt.scatter(x, z, label = \"Scatter Plot\", color = \"red\")\n",
    "plt.xlabel(\"Present_AI\")\n",
    "plt.ylabel(\"Future_Job\")\n",
    "plt.legend(loc = 1)\n",
    "plt.show()\n",
    "\n",
    "r0 = 0\n",
    "r1 = 0\n",
    "for i in range(count):\n",
    "    z1 = (m * x[i]) + c\n",
    "    r0 += (z1 - mean_z) ** 2\n",
    "    r1 += (y[i] - mean_z) ** 2\n",
    "r2 = r0 / r1\n",
    "print(\"R ^ 2: \", r2)\n",
    "print(\"R: \", math.sqrt(r2))"
   ]
  },
  {
   "cell_type": "code",
   "execution_count": 20,
   "id": "a533ef98",
   "metadata": {},
   "outputs": [
    {
     "name": "stdout",
     "output_type": "stream",
     "text": [
      "Mean y:  1.7177914110429449\n",
      "Mean z:  0.9815950920245399\n",
      "m:  1.3675213675213673\n",
      "c:  -1.367521367521367\n"
     ]
    },
    {
     "data": {
      "image/png": "[encoded data removed]",
      "text/plain": [
       "<Figure size 432x288 with 1 Axes>"
      ]
     },
     "metadata": {
      "needs_background": "light"
     },
     "output_type": "display_data"
    },
    {
     "name": "stdout",
     "output_type": "stream",
     "text": [
      "R ^ 2:  0.5625834479711538\n",
      "R:  0.7500556299176441\n"
     ]
    }
   ],
   "source": [
    "def Mean(data):\n",
    "    return sum(data)/len(data)\n",
    "\n",
    "mean_y = Mean(y)\n",
    "mean_z = Mean(z)\n",
    "print(\"Mean y: \", mean_y)\n",
    "print(\"Mean z: \", mean_z)\n",
    "\n",
    "numer = 0\n",
    "denom = 0\n",
    "count = len(df)\n",
    "for i in range(count):\n",
    "    numer = (y[i] - mean_y) * (z[i] - mean_z)\n",
    "    denom = (y[i] - mean_y) ** 2\n",
    "m = numer / denom\n",
    "c = mean_z - (m * mean_y)\n",
    "print(\"m: \", m)\n",
    "print(\"c: \", c)\n",
    "\n",
    "min = np.min(y)\n",
    "max = np.max(y)\n",
    "new_y = np.linspace(min, max, 10)\n",
    "new_z = (m * new_y) + c\n",
    "plt.plot(new_y, new_z, label = \"Linear Regression\", color = \"blue\")\n",
    "plt.scatter(y, z, label = \"Scatter Plot\", color = \"red\")\n",
    "plt.xlabel(\"Future_AI\")\n",
    "plt.ylabel(\"Future_Job\")\n",
    "plt.legend(loc = 1)\n",
    "plt.show()\n",
    "\n",
    "r0 = 0\n",
    "r1 = 0\n",
    "for i in range(count):\n",
    "    z1 = (m * y[i]) + c\n",
    "    r0 += (z1 - mean_z) ** 2\n",
    "    r1 += (z[i] - mean_z) ** 2\n",
    "r2 = r0 / r1\n",
    "print(\"R ^ 2: \", r2)\n",
    "print(\"R: \", math.sqrt(r2))"
   ]
  },
  {
   "cell_type": "code",
   "execution_count": null,
   "id": "f3746134",
   "metadata": {},
   "outputs": [],
   "source": []
  },
  {
   "cell_type": "code",
   "execution_count": null,
   "id": "2e365577",
   "metadata": {},
   "outputs": [],
   "source": []
  }
 ],
 "metadata": {
  "kernelspec": {
   "display_name": "Python 3 (ipykernel)",
   "language": "python",
   "name": "python3"
  },
  "language_info": {
   "codemirror_mode": {
    "name": "ipython",
    "version": 3
   },
   "file_extension": ".py",
   "mimetype": "text/x-python",
   "name": "python",
   "nbconvert_exporter": "python",
   "pygments_lexer": "ipython3",
   "version": "3.9.13"
  }
 },
 "nbformat": 4,
 "nbformat_minor": 5
}
