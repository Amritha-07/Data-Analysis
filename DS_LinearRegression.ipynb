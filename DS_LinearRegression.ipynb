{
 "cells": [
  {
   "cell_type": "code",
   "execution_count": 8,
   "id": "c9f5a3a5",
   "metadata": {},
   "outputs": [],
   "source": [
    "import pandas as pd\n",
    "import numpy as np\n",
    "import matplotlib.pyplot as plt\n",
    "import seaborn as sns\n",
    "import math"
   ]
  },
  {
   "cell_type": "code",
   "execution_count": 9,
   "id": "7008aae3",
   "metadata": {},
   "outputs": [],
   "source": [
    "df = pd.read_excel(r\"DSjobs.xlsx\")"
   ]
  },
  {
   "cell_type": "code",
   "execution_count": 10,
   "id": "75cf883a",
   "metadata": {},
   "outputs": [],
   "source": [
    "df.rename(columns={'percentage of job description that contain artificial intelligence or machine learning ': 'AI and ML', 'percentage of jobs open after 60 days': 'Jobs open'}, inplace=True)"
   ]
  },
  {
   "cell_type": "code",
   "execution_count": 11,
   "id": "c52460d2",
   "metadata": {
    "scrolled": true
   },
   "outputs": [
    {
     "data": {
      "text/html": [
       "<div>\n",
       "<style scoped>\n",
       "    .dataframe tbody tr th:only-of-type {\n",
       "        vertical-align: middle;\n",
       "    }\n",
       "\n",
       "    .dataframe tbody tr th {\n",
       "        vertical-align: top;\n",
       "    }\n",
       "\n",
       "    .dataframe thead th {\n",
       "        text-align: right;\n",
       "    }\n",
       "</style>\n",
       "<table border=\"1\" class=\"dataframe\">\n",
       "  <thead>\n",
       "    <tr style=\"text-align: right;\">\n",
       "      <th></th>\n",
       "      <th>Jobs</th>\n",
       "      <th>AI and ML</th>\n",
       "      <th>Jobs open</th>\n",
       "      <th>Average Salary</th>\n",
       "    </tr>\n",
       "  </thead>\n",
       "  <tbody>\n",
       "    <tr>\n",
       "      <th>0</th>\n",
       "      <td>Machine Learning Engineer</td>\n",
       "      <td>94.2</td>\n",
       "      <td>40.8</td>\n",
       "      <td>134449</td>\n",
       "    </tr>\n",
       "    <tr>\n",
       "      <th>1</th>\n",
       "      <td>Data Scientist</td>\n",
       "      <td>75.1</td>\n",
       "      <td>33.0</td>\n",
       "      <td>130503</td>\n",
       "    </tr>\n",
       "    <tr>\n",
       "      <th>2</th>\n",
       "      <td>Computer Vision Engineer</td>\n",
       "      <td>64.6</td>\n",
       "      <td>45.2</td>\n",
       "      <td>134346</td>\n",
       "    </tr>\n",
       "    <tr>\n",
       "      <th>3</th>\n",
       "      <td>Alorithm Engineer</td>\n",
       "      <td>37.4</td>\n",
       "      <td>48.6</td>\n",
       "      <td>104112</td>\n",
       "    </tr>\n",
       "    <tr>\n",
       "      <th>4</th>\n",
       "      <td>Principal Scientist</td>\n",
       "      <td>28.8</td>\n",
       "      <td>46.4</td>\n",
       "      <td>138271</td>\n",
       "    </tr>\n",
       "    <tr>\n",
       "      <th>5</th>\n",
       "      <td>Computer Scientist</td>\n",
       "      <td>27.6</td>\n",
       "      <td>63.8</td>\n",
       "      <td>97850</td>\n",
       "    </tr>\n",
       "    <tr>\n",
       "      <th>6</th>\n",
       "      <td>Research Engineer</td>\n",
       "      <td>24.3</td>\n",
       "      <td>44.1</td>\n",
       "      <td>71600</td>\n",
       "    </tr>\n",
       "    <tr>\n",
       "      <th>7</th>\n",
       "      <td>Statistician</td>\n",
       "      <td>24.0</td>\n",
       "      <td>29.0</td>\n",
       "      <td>83731</td>\n",
       "    </tr>\n",
       "    <tr>\n",
       "      <th>8</th>\n",
       "      <td>Director of analytics</td>\n",
       "      <td>23.3</td>\n",
       "      <td>34.5</td>\n",
       "      <td>140837</td>\n",
       "    </tr>\n",
       "    <tr>\n",
       "      <th>9</th>\n",
       "      <td>Data Engineer</td>\n",
       "      <td>22.1</td>\n",
       "      <td>34.8</td>\n",
       "      <td>125999</td>\n",
       "    </tr>\n",
       "  </tbody>\n",
       "</table>\n",
       "</div>"
      ],
      "text/plain": [
       "                        Jobs  AI and ML  Jobs open  Average Salary\n",
       "0  Machine Learning Engineer       94.2       40.8          134449\n",
       "1             Data Scientist       75.1       33.0          130503\n",
       "2   Computer Vision Engineer       64.6       45.2          134346\n",
       "3          Alorithm Engineer       37.4       48.6          104112\n",
       "4        Principal Scientist       28.8       46.4          138271\n",
       "5         Computer Scientist       27.6       63.8           97850\n",
       "6          Research Engineer       24.3       44.1           71600\n",
       "7               Statistician       24.0       29.0           83731\n",
       "8      Director of analytics       23.3       34.5          140837\n",
       "9              Data Engineer       22.1       34.8          125999"
      ]
     },
     "execution_count": 11,
     "metadata": {},
     "output_type": "execute_result"
    }
   ],
   "source": [
    "df"
   ]
  },
  {
   "cell_type": "code",
   "execution_count": 12,
   "id": "5d9204d7",
   "metadata": {},
   "outputs": [
    {
     "data": {
      "text/plain": [
       "<seaborn.axisgrid.PairGrid at 0x1baf4e44460>"
      ]
     },
     "execution_count": 12,
     "metadata": {},
     "output_type": "execute_result"
    }
   ],
   "source": [
    "sns.pairplot(df)"
   ]
  },
  {
   "cell_type": "code",
   "execution_count": 13,
   "id": "e4e3c3e6",
   "metadata": {},
   "outputs": [],
   "source": [
    "name = np.array(df[\"Jobs\"])\n",
    "x = np.array(df[\"AI and ML\"])\n",
    "y = np.array(df[\"Jobs open\"])\n",
    "z = np.array(df[\"Average Salary\"])"
   ]
  },
  {
   "cell_type": "code",
   "execution_count": 14,
   "id": "8df2ce04",
   "metadata": {},
   "outputs": [
    {
     "name": "stdout",
     "output_type": "stream",
     "text": [
      "Mean x:  42.14000000000001\n",
      "Mean y:  42.02\n",
      "m:  0.36027944111776466\n",
      "c:  26.8378243512974\n"
     ]
    },
    {
     "data": {
      "image/png": "[encoded data removed]",
      "text/plain": [
       "<Figure size 750x750 with 12 Axes>"
      ]
     },
     "metadata": {},
     "output_type": "display_data"
    },
    {
     "name": "stdout",
     "output_type": "stream",
     "text": [
      "R ^ 2:  0.8702536897674636\n",
      "R:  0.9328738873864267\n"
     ]
    }
   ],
   "source": [
    "def Mean(data):\n",
    "    return sum(data)/len(data)\n",
    "\n",
    "mean_x = Mean(x)\n",
    "mean_y = Mean(y)\n",
    "print(\"Mean x: \", mean_x)\n",
    "print(\"Mean y: \", mean_y)\n",
    "\n",
    "numer = 0\n",
    "denom = 0\n",
    "count = len(df)\n",
    "for i in range(count):\n",
    "    numer = (x[i] - mean_x) * (y[i] - mean_y)\n",
    "    denom = (x[i] - mean_x) ** 2\n",
    "m = numer / denom\n",
    "c = mean_y - (m * mean_x)\n",
    "print(\"m: \", m)\n",
    "print(\"c: \", c)\n",
    "\n",
    "min = np.min(x)\n",
    "max = np.max(x)\n",
    "new_x = np.linspace(min, max, 10)\n",
    "new_y = (m * new_x) + c\n",
    "plt.plot(new_x, new_y, label = \"Linear Regression\", color = \"blue\")\n",
    "plt.scatter(x, y, label = \"Scatter Plot\", color = \"red\")\n",
    "plt.xlabel(\"X - Independent Variable\")\n",
    "plt.ylabel(\"Y - Dependent Variable\")\n",
    "plt.legend()\n",
    "plt.show()\n",
    "\n",
    "r0 = 0\n",
    "r1 = 0\n",
    "for i in range(count):\n",
    "    y1 = (m * x[i]) + c\n",
    "    r0 += (y1 - mean_y) ** 2\n",
    "    r1 += (y[i] - mean_y) ** 2\n",
    "r2 = r0 / r1\n",
    "print(\"R ^ 2: \", r2)\n",
    "print(\"R: \", math.sqrt(r2))"
   ]
  },
  {
   "cell_type": "code",
   "execution_count": null,
   "id": "59296cbb",
   "metadata": {},
   "outputs": [],
   "source": []
  }
 ],
 "metadata": {
  "kernelspec": {
   "display_name": "Python 3 (ipykernel)",
   "language": "python",
   "name": "python3"
  },
  "language_info": {
   "codemirror_mode": {
    "name": "ipython",
    "version": 3
   },
   "file_extension": ".py",
   "mimetype": "text/x-python",
   "name": "python",
   "nbconvert_exporter": "python",
   "pygments_lexer": "ipython3",
   "version": "3.9.13"
  }
 },
 "nbformat": 4,
 "nbformat_minor": 5
}
